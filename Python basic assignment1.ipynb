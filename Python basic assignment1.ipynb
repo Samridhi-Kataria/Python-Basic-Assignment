{
 "cells": [
  {
   "cell_type": "markdown",
   "metadata": {},
   "source": [
    "1. What are the differences between operators and values in the following?\n",
    "*\n",
    "'hello'\n",
    "-87.8\n",
    "-\n",
    "/\n",
    "+\n",
    "6\n",
    "\n",
    "\n",
    "\n",
    "\n",
    "Answer:-  \n",
    "Operators are the special symbols in python that carry out arithmetic or logical operator where are values are the characters on which operation is performed also known as operand. Eg:- 1+2 where 1 and 2 are the values or operands and + symbol is the operator.\n",
    "\n",
    " *.                operator\n",
    "'hello'            value\n",
    "-87.8              value\n",
    "-                  operator                    \n",
    "/                  operator\n",
    "+                  operator\n",
    "6                  value"
   ]
  },
  {
   "cell_type": "markdown",
   "metadata": {},
   "source": [
    "2. What is the difference between string and variable?\n",
    "spam\n",
    "'spam'\n",
    "\n",
    "Answer:-\n",
    "A variable is where you store the values where as string is a kind of value which is getting stored(donated by quotation marks) eg:- name=\"sam\" where sam is the string which is getting stored in variable name"
   ]
  },
  {
   "cell_type": "markdown",
   "metadata": {},
   "source": [
    "3. Describe three different data types.\n",
    "\n",
    "Answer:- 1. Integer - It includes whole numbers. Eg- 2,843,892792 etc\n",
    "         2  Float - It inclues numbers with decimal points. Eg- 3.7, 221.88 etc\n",
    "         3  string- They are alphanumeric characters written in quatation marks.\n"
   ]
  },
  {
   "cell_type": "markdown",
   "metadata": {},
   "source": [
    "4. What makes up an expression? What are the functions of all expressions?\n",
    "\n",
    "Answer:-\n",
    "Expression is the combination of values, variables, and operators and always result down to one single value. Eg:- sum=2+2 where 2+2 is an expression which results down to one single value 4 which is also an expression. Some of the functions are: len(), type(), all() etc"
   ]
  },
  {
   "cell_type": "markdown",
   "metadata": {},
   "source": [
    "5. In this chapter, assignment statements such as spam = 10 were added. What's the\n",
    "difference between a declaration and an expression?\n",
    "\n",
    "Answer:- Declaration is done by = operator like we are declarating value 10 in the variable spam. Expression\n"
   ]
  },
  {
   "cell_type": "markdown",
   "metadata": {},
   "source": [
    "6. After running the following code, what does the variable bacon contain?\n",
    "bacon = 22\n",
    "bacon+1\n",
    "\n",
    "answer:-\n",
    "23"
   ]
  },
  {
   "cell_type": "markdown",
   "metadata": {},
   "source": [
    "7. What should the values of the following two terms be?\n",
    "'spam' + 'spamspam'\n",
    "'spam' * 3\n",
    "\n",
    "Answer:-\n",
    "spamspamspam (for both)"
   ]
  },
  {
   "cell_type": "markdown",
   "metadata": {},
   "source": [
    "8. Why is it that eggs is a true variable name but 100 is not?\n",
    "\n",
    "Answer:- Because variable name can start from alphabets but not from numbers"
   ]
  },
  {
   "cell_type": "markdown",
   "metadata": {},
   "source": [
    "9. Which of the following three functions may be used to convert a value to an integer, a\n",
    "floating-point number, or a string?\n",
    "\n",
    "Answer:-\n",
    "int(), float(), str()"
   ]
  },
  {
   "cell_type": "markdown",
   "metadata": {},
   "source": [
    "10. What is the error caused by this expression? What would you do about it?\n",
    "'I have eaten' + 99 + 'burritos'\n",
    "\n",
    "Answer:- We can not add string and integer together. We can convert 99 to a string my str() function."
   ]
  }
 ],
 "metadata": {
  "kernelspec": {
   "display_name": "Python 3",
   "language": "python",
   "name": "python3"
  },
  "language_info": {
   "codemirror_mode": {
    "name": "ipython",
    "version": 3
   },
   "file_extension": ".py",
   "mimetype": "text/x-python",
   "name": "python",
   "nbconvert_exporter": "python",
   "pygments_lexer": "ipython3",
   "version": "3.6.4"
  }
 },
 "nbformat": 4,
 "nbformat_minor": 2
}
